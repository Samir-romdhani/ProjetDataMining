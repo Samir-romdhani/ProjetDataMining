{
 "cells": [
  {
   "cell_type": "code",
   "execution_count": 1,
   "metadata": {
    "collapsed": true
   },
   "outputs": [],
   "source": [
    "import urllib3\n",
    "import facebook\n",
    "import requests"
   ]
  },
  {
   "cell_type": "code",
   "execution_count": 2,
   "metadata": {
    "collapsed": true
   },
   "outputs": [],
   "source": [
    "token = \"EAAFnYIYXdpEBAPUwzxKNKDFaGTmqwYujQQ9vZATpfefMPobkpibDc0SePGYTHLvhpSKr0jBAyEMCBXqeEpVwZCpinV9Imb7UxUSAXqQk2kloYj2e4xb7dwACOG2kq2Ap6UzLr7EAr6cnrDuUWrbueI7ZCQRG7AZD\"\n",
    "graph = facebook.GraphAPI(access_token=token, version = 2.7)\n",
    "pagesdata = requests.get(\"https://graph.facebook.com/me/accounts?access_token=\"+token)\n",
    "page_id = \"298166859034\""
   ]
  },
  {
   "cell_type": "code",
   "execution_count": 5,
   "metadata": {},
   "outputs": [],
   "source": [
    "posts_on_page = requests.get(\"https://graph.facebook.com/\"+page_id+\"/feed?access_token=\"+token)\n",
    "posts_data = (posts_on_page.json())\n",
    "#print posts_data\n",
    "for x in posts_data['data']:\n",
    " post_id = x['id']\n",
    " reactions_on_post = requests.get(\"https://graph.facebook.com/\"+post_id+\"/comments?access_token=\"+token)\n",
    " reactions_data = reactions_on_post.json()\n",
    " #print (reactions_data)"
   ]
  },
  {
   "cell_type": "code",
   "execution_count": 6,
   "metadata": {
    "collapsed": true
   },
   "outputs": [],
   "source": [
    "###############################################"
   ]
  },
  {
   "cell_type": "code",
   "execution_count": null,
   "metadata": {
    "collapsed": true
   },
   "outputs": [],
   "source": []
  }
 ],
 "metadata": {
  "kernelspec": {
   "display_name": "Python 3",
   "language": "python",
   "name": "python3"
  },
  "language_info": {
   "codemirror_mode": {
    "name": "ipython",
    "version": 3
   },
   "file_extension": ".py",
   "mimetype": "text/x-python",
   "name": "python",
   "nbconvert_exporter": "python",
   "pygments_lexer": "ipython3",
   "version": "3.6.3"
  }
 },
 "nbformat": 4,
 "nbformat_minor": 2
}
