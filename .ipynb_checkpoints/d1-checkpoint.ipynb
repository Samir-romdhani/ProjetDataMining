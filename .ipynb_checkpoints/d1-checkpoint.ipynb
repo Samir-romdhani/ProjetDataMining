{
 "cells": [
  {
   "cell_type": "code",
   "execution_count": 1,
   "metadata": {
    "collapsed": true
   },
   "outputs": [],
   "source": [
    "## Import entire libraries\n",
    "\n",
    "import pandas as pd\n",
    "import numpy as np\n",
    "\n",
    "#library for plotting stuff\n",
    "import matplotlib.pyplot as plt\n",
    "#so that plots appear in the same browser window\n",
    "%matplotlib inline\n",
    "\n",
    "\n",
    "## Import specific items only from the sklearn library\n",
    "\n",
    "from sklearn.model_selection import train_test_split\n",
    "\n",
    "from sklearn.feature_extraction.text import CountVectorizer\n",
    "from sklearn.feature_extraction.text import TfidfVectorizer\n",
    "\n",
    "from sklearn.linear_model import LogisticRegression\n",
    "from sklearn.naive_bayes import MultinomialNB\n",
    "\n",
    "from sklearn.metrics import accuracy_score"
   ]
  },
  {
   "cell_type": "code",
   "execution_count": 2,
   "metadata": {
    "collapsed": true
   },
   "outputs": [],
   "source": [
    "# Read the data from a file\n",
    "df0 = pd.read_csv('four-column300.csv')"
   ]
  },
  {
   "cell_type": "code",
   "execution_count": 3,
   "metadata": {},
   "outputs": [
    {
     "name": "stdout",
     "output_type": "stream",
     "text": [
      "<class 'pandas.core.frame.DataFrame'>\n",
      "(300, 4)\n"
     ]
    },
    {
     "data": {
      "text/html": [
       "<div>\n",
       "<style>\n",
       "    .dataframe thead tr:only-child th {\n",
       "        text-align: right;\n",
       "    }\n",
       "\n",
       "    .dataframe thead th {\n",
       "        text-align: left;\n",
       "    }\n",
       "\n",
       "    .dataframe tbody tr th {\n",
       "        vertical-align: top;\n",
       "    }\n",
       "</style>\n",
       "<table border=\"1\" class=\"dataframe\">\n",
       "  <thead>\n",
       "    <tr style=\"text-align: right;\">\n",
       "      <th></th>\n",
       "      <th>Commentaire</th>\n",
       "      <th>Classe</th>\n",
       "      <th>Date</th>\n",
       "      <th>url</th>\n",
       "    </tr>\n",
       "  </thead>\n",
       "  <tbody>\n",
       "    <tr>\n",
       "      <th>0</th>\n",
       "      <td>عسلامة أورونج رقدت مخلي ال puce متاعي أورونج ق...</td>\n",
       "      <td>negative</td>\n",
       "      <td>2018-01-02T19:16:17+0000</td>\n",
       "      <td>https://www.facebook.com/298166859034_10155976...</td>\n",
       "    </tr>\n",
       "    <tr>\n",
       "      <th>1</th>\n",
       "      <td>اورونج نحب نقلكم عيشكم خاتر انتوما الوحدين\\nتت...</td>\n",
       "      <td>negative</td>\n",
       "      <td>2018-01-02T19:43:48+0000</td>\n",
       "      <td>https://www.facebook.com/298166859034_10155976...</td>\n",
       "    </tr>\n",
       "    <tr>\n",
       "      <th>2</th>\n",
       "      <td>brabi orange pk l connexion ma t7ebech temchil...</td>\n",
       "      <td>negative</td>\n",
       "      <td>2018-01-02T20:37:47+0000</td>\n",
       "      <td>https://www.facebook.com/298166859034_10155976...</td>\n",
       "    </tr>\n",
       "    <tr>\n",
       "      <th>3</th>\n",
       "      <td>slm orange elyoum 3adet fourfi 900 ta3 7 jour ...</td>\n",
       "      <td>negative</td>\n",
       "      <td>2018-01-02T19:00:49+0000</td>\n",
       "      <td>https://www.facebook.com/298166859034_10155976...</td>\n",
       "    </tr>\n",
       "    <tr>\n",
       "      <th>4</th>\n",
       "      <td>N7eb orange</td>\n",
       "      <td>positive</td>\n",
       "      <td>2018-01-08T20:13:49+0000</td>\n",
       "      <td>https://www.facebook.com/298166859034_10155991...</td>\n",
       "    </tr>\n",
       "    <tr>\n",
       "      <th>5</th>\n",
       "      <td>حزين</td>\n",
       "      <td>negative</td>\n",
       "      <td>2018-01-08T19:15:36+0000</td>\n",
       "      <td>https://www.facebook.com/298166859034_10155991...</td>\n",
       "    </tr>\n",
       "    <tr>\n",
       "      <th>6</th>\n",
       "      <td>نسالكم 70 ميغاا الله لا تربحكم انتم باش تربحوو...</td>\n",
       "      <td>negative</td>\n",
       "      <td>2018-01-02T19:11:40+0000</td>\n",
       "      <td>https://www.facebook.com/298166859034_10155976...</td>\n",
       "    </tr>\n",
       "    <tr>\n",
       "      <th>7</th>\n",
       "      <td>Problème de connexion avec les sites internati...</td>\n",
       "      <td>negative</td>\n",
       "      <td>2018-01-09T18:10:08+0000</td>\n",
       "      <td>https://www.facebook.com/298166859034_10155990...</td>\n",
       "    </tr>\n",
       "    <tr>\n",
       "      <th>8</th>\n",
       "      <td>bon orange pk la connexion t7bch temchi ken fa...</td>\n",
       "      <td>negative</td>\n",
       "      <td>2018-01-02T20:47:32+0000</td>\n",
       "      <td>https://www.facebook.com/298166859034_10155976...</td>\n",
       "    </tr>\n",
       "    <tr>\n",
       "      <th>9</th>\n",
       "      <td>3aslma orange belhy n7eb na3ref 3lach ne7etow ...</td>\n",
       "      <td>negative</td>\n",
       "      <td>2018-01-02T21:43:12+0000</td>\n",
       "      <td>https://www.facebook.com/298166859034_10155976...</td>\n",
       "    </tr>\n",
       "  </tbody>\n",
       "</table>\n",
       "</div>"
      ],
      "text/plain": [
       "                                         Commentaire    Classe  \\\n",
       "0  عسلامة أورونج رقدت مخلي ال puce متاعي أورونج ق...  negative   \n",
       "1  اورونج نحب نقلكم عيشكم خاتر انتوما الوحدين\\nتت...  negative   \n",
       "2  brabi orange pk l connexion ma t7ebech temchil...  negative   \n",
       "3  slm orange elyoum 3adet fourfi 900 ta3 7 jour ...  negative   \n",
       "4                                        N7eb orange  positive   \n",
       "5                                               حزين  negative   \n",
       "6  نسالكم 70 ميغاا الله لا تربحكم انتم باش تربحوو...  negative   \n",
       "7  Problème de connexion avec les sites internati...  negative   \n",
       "8  bon orange pk la connexion t7bch temchi ken fa...  negative   \n",
       "9  3aslma orange belhy n7eb na3ref 3lach ne7etow ...  negative   \n",
       "\n",
       "                       Date                                                url  \n",
       "0  2018-01-02T19:16:17+0000  https://www.facebook.com/298166859034_10155976...  \n",
       "1  2018-01-02T19:43:48+0000  https://www.facebook.com/298166859034_10155976...  \n",
       "2  2018-01-02T20:37:47+0000  https://www.facebook.com/298166859034_10155976...  \n",
       "3  2018-01-02T19:00:49+0000  https://www.facebook.com/298166859034_10155976...  \n",
       "4  2018-01-08T20:13:49+0000  https://www.facebook.com/298166859034_10155991...  \n",
       "5  2018-01-08T19:15:36+0000  https://www.facebook.com/298166859034_10155991...  \n",
       "6  2018-01-02T19:11:40+0000  https://www.facebook.com/298166859034_10155976...  \n",
       "7  2018-01-09T18:10:08+0000  https://www.facebook.com/298166859034_10155990...  \n",
       "8  2018-01-02T20:47:32+0000  https://www.facebook.com/298166859034_10155976...  \n",
       "9  2018-01-02T21:43:12+0000  https://www.facebook.com/298166859034_10155976...  "
      ]
     },
     "execution_count": 3,
     "metadata": {},
     "output_type": "execute_result"
    }
   ],
   "source": [
    "# Verify that this data consists of a matrix stored in a Pandas Data Frame\n",
    "#   containing one row per product and with columns = product attributes.\n",
    "print(type(df0))\n",
    "print(df0.shape)\n",
    "df0.head(10)"
   ]
  },
  {
   "cell_type": "code",
   "execution_count": 4,
   "metadata": {},
   "outputs": [
    {
     "name": "stdout",
     "output_type": "stream",
     "text": [
      "<class 'pandas.core.frame.DataFrame'>\n",
      "RangeIndex: 300 entries, 0 to 299\n",
      "Data columns (total 4 columns):\n",
      "Commentaire    295 non-null object\n",
      "Classe         298 non-null object\n",
      "Date           296 non-null object\n",
      "url            296 non-null object\n",
      "dtypes: object(4)\n",
      "memory usage: 9.5+ KB\n"
     ]
    }
   ],
   "source": [
    "#We can also use the info() method to obtain a summary of a pandas Data Frame\n",
    "df0.info()"
   ]
  },
  {
   "cell_type": "code",
   "execution_count": 5,
   "metadata": {},
   "outputs": [
    {
     "name": "stdout",
     "output_type": "stream",
     "text": [
      "(30, 4)\n"
     ]
    },
    {
     "data": {
      "text/html": [
       "<div>\n",
       "<style>\n",
       "    .dataframe thead tr:only-child th {\n",
       "        text-align: right;\n",
       "    }\n",
       "\n",
       "    .dataframe thead th {\n",
       "        text-align: left;\n",
       "    }\n",
       "\n",
       "    .dataframe tbody tr th {\n",
       "        vertical-align: top;\n",
       "    }\n",
       "</style>\n",
       "<table border=\"1\" class=\"dataframe\">\n",
       "  <thead>\n",
       "    <tr style=\"text-align: right;\">\n",
       "      <th></th>\n",
       "      <th>Commentaire</th>\n",
       "      <th>Classe</th>\n",
       "      <th>Date</th>\n",
       "      <th>url</th>\n",
       "    </tr>\n",
       "  </thead>\n",
       "  <tbody>\n",
       "    <tr>\n",
       "      <th>155</th>\n",
       "      <td>اتمنى سنة ادارية سعيدة كلها امن واستقرار ونموا...</td>\n",
       "      <td>positive</td>\n",
       "      <td>2017-12-28T22:59:45+0000</td>\n",
       "      <td>https://www.facebook.com/298166859034_10155961...</td>\n",
       "    </tr>\n",
       "    <tr>\n",
       "      <th>265</th>\n",
       "      <td>mala hana ncharkou mafam 7ata chay wele trab7o...</td>\n",
       "      <td>negative</td>\n",
       "      <td>2017-12-26T07:39:37+0000</td>\n",
       "      <td>https://www.facebook.com/298166859034_10155949...</td>\n",
       "    </tr>\n",
       "    <tr>\n",
       "      <th>50</th>\n",
       "      <td>3amalt barcha jaw m3akoum 3am 2017 winchallah ...</td>\n",
       "      <td>positive</td>\n",
       "      <td>2017-12-31T21:45:12+0000</td>\n",
       "      <td>https://www.facebook.com/298166859034_10155970...</td>\n",
       "    </tr>\n",
       "    <tr>\n",
       "      <th>226</th>\n",
       "      <td>hhhh 😁😁😁</td>\n",
       "      <td>positive</td>\n",
       "      <td>2017-12-26T19:31:03+0000</td>\n",
       "      <td>https://www.facebook.com/298166859034_10155956...</td>\n",
       "    </tr>\n",
       "    <tr>\n",
       "      <th>232</th>\n",
       "      <td>اهلا\\nوصلت ل 1225 ميغا \\nفماش بونيس ؟</td>\n",
       "      <td>negative</td>\n",
       "      <td>2017-12-29T13:48:50+0000</td>\n",
       "      <td>https://www.facebook.com/298166859034_10155955...</td>\n",
       "    </tr>\n",
       "  </tbody>\n",
       "</table>\n",
       "</div>"
      ],
      "text/plain": [
       "                                           Commentaire    Classe  \\\n",
       "155  اتمنى سنة ادارية سعيدة كلها امن واستقرار ونموا...  positive   \n",
       "265  mala hana ncharkou mafam 7ata chay wele trab7o...  negative   \n",
       "50   3amalt barcha jaw m3akoum 3am 2017 winchallah ...  positive   \n",
       "226                                           hhhh 😁😁😁  positive   \n",
       "232              اهلا\\nوصلت ل 1225 ميغا \\nفماش بونيس ؟  negative   \n",
       "\n",
       "                         Date  \\\n",
       "155  2017-12-28T22:59:45+0000   \n",
       "265  2017-12-26T07:39:37+0000   \n",
       "50   2017-12-31T21:45:12+0000   \n",
       "226  2017-12-26T19:31:03+0000   \n",
       "232  2017-12-29T13:48:50+0000   \n",
       "\n",
       "                                                   url  \n",
       "155  https://www.facebook.com/298166859034_10155961...  \n",
       "265  https://www.facebook.com/298166859034_10155949...  \n",
       "50   https://www.facebook.com/298166859034_10155970...  \n",
       "226  https://www.facebook.com/298166859034_10155956...  \n",
       "232  https://www.facebook.com/298166859034_10155955...  "
      ]
     },
     "execution_count": 5,
     "metadata": {},
     "output_type": "execute_result"
    }
   ],
   "source": [
    "# In order to speed up computation, we'll only use a small random sample\n",
    "#   of this data comprising 10 % of the rows.\n",
    "df = df0.sample(frac=0.1, random_state=2137)\n",
    "\n",
    "print(df.shape)\n",
    "df.head()"
   ]
  },
  {
   "cell_type": "code",
   "execution_count": null,
   "metadata": {
    "collapsed": true
   },
   "outputs": [],
   "source": []
  },
  {
   "cell_type": "code",
   "execution_count": 6,
   "metadata": {},
   "outputs": [
    {
     "data": {
      "text/html": [
       "<div>\n",
       "<style>\n",
       "    .dataframe thead tr:only-child th {\n",
       "        text-align: right;\n",
       "    }\n",
       "\n",
       "    .dataframe thead th {\n",
       "        text-align: left;\n",
       "    }\n",
       "\n",
       "    .dataframe tbody tr th {\n",
       "        vertical-align: top;\n",
       "    }\n",
       "</style>\n",
       "<table border=\"1\" class=\"dataframe\">\n",
       "  <thead>\n",
       "    <tr style=\"text-align: right;\">\n",
       "      <th></th>\n",
       "      <th>Commentaire</th>\n",
       "      <th>Classe</th>\n",
       "      <th>Date</th>\n",
       "      <th>url</th>\n",
       "    </tr>\n",
       "  </thead>\n",
       "  <tbody>\n",
       "    <tr>\n",
       "      <th>count</th>\n",
       "      <td>30</td>\n",
       "      <td>30</td>\n",
       "      <td>30</td>\n",
       "      <td>30</td>\n",
       "    </tr>\n",
       "    <tr>\n",
       "      <th>unique</th>\n",
       "      <td>29</td>\n",
       "      <td>2</td>\n",
       "      <td>30</td>\n",
       "      <td>15</td>\n",
       "    </tr>\n",
       "    <tr>\n",
       "      <th>top</th>\n",
       "      <td>انا تعجبني اورنج عندي زوز بيسات ويعجبني فيها ا...</td>\n",
       "      <td>positive</td>\n",
       "      <td>2017-12-24T10:44:25+0000</td>\n",
       "      <td>https://www.facebook.com/298166859034_10155970...</td>\n",
       "    </tr>\n",
       "    <tr>\n",
       "      <th>freq</th>\n",
       "      <td>2</td>\n",
       "      <td>18</td>\n",
       "      <td>1</td>\n",
       "      <td>5</td>\n",
       "    </tr>\n",
       "  </tbody>\n",
       "</table>\n",
       "</div>"
      ],
      "text/plain": [
       "                                              Commentaire    Classe  \\\n",
       "count                                                  30        30   \n",
       "unique                                                 29         2   \n",
       "top     انا تعجبني اورنج عندي زوز بيسات ويعجبني فيها ا...  positive   \n",
       "freq                                                    2        18   \n",
       "\n",
       "                            Date  \\\n",
       "count                         30   \n",
       "unique                        30   \n",
       "top     2017-12-24T10:44:25+0000   \n",
       "freq                           1   \n",
       "\n",
       "                                                      url  \n",
       "count                                                  30  \n",
       "unique                                                 15  \n",
       "top     https://www.facebook.com/298166859034_10155970...  \n",
       "freq                                                    5  "
      ]
     },
     "execution_count": 6,
     "metadata": {},
     "output_type": "execute_result"
    }
   ],
   "source": [
    "# The describe() method gives a numeric summary of numeric columns (attributes) only\n",
    "#30 == 300\n",
    "df.describe()"
   ]
  },
  {
   "cell_type": "code",
   "execution_count": 7,
   "metadata": {},
   "outputs": [
    {
     "name": "stdout",
     "output_type": "stream",
     "text": [
      "2\n"
     ]
    }
   ],
   "source": [
    "from collections import Counter\n",
    "counter = Counter(df['Classe']).most_common()\n",
    "\n",
    "#number of Classe\n",
    "print(len(counter))"
   ]
  },
  {
   "cell_type": "code",
   "execution_count": null,
   "metadata": {
    "collapsed": true
   },
   "outputs": [],
   "source": []
  },
  {
   "cell_type": "code",
   "execution_count": 8,
   "metadata": {},
   "outputs": [
    {
     "name": "stdout",
     "output_type": "stream",
     "text": [
      "<class 'pandas.core.series.Series'>\n"
     ]
    },
    {
     "data": {
      "text/plain": [
       "Classe\n",
       "negative    12\n",
       "positive    18\n",
       "dtype: int64"
      ]
     },
     "execution_count": 8,
     "metadata": {},
     "output_type": "execute_result"
    }
   ],
   "source": [
    "gR = df.groupby('Classe').size()\n",
    "print(type(gR))\n",
    "gR"
   ]
  },
  {
   "cell_type": "code",
   "execution_count": 9,
   "metadata": {},
   "outputs": [
    {
     "data": {
      "text/plain": [
       "<Container object of 2 artists>"
      ]
     },
     "execution_count": 9,
     "metadata": {},
     "output_type": "execute_result"
    },
    {
     "data": {
      "image/png": "[encoded data removed]",
      "text/plain": [
       "<matplotlib.figure.Figure at 0x1d5682e77b8>"
      ]
     },
     "metadata": {},
     "output_type": "display_data"
    }
   ],
   "source": [
    "plt.bar(gR.index, gR)"
   ]
  },
  {
   "cell_type": "code",
   "execution_count": 10,
   "metadata": {
    "collapsed": true
   },
   "outputs": [],
   "source": [
    "# Split data into training and test sets\n",
    "X_train, X_test, y_train, y_test = train_test_split(df['Commentaire'], \n",
    "                                                    df['Classe'], \n",
    "                                                    random_state=591)"
   ]
  },
  {
   "cell_type": "code",
   "execution_count": 11,
   "metadata": {},
   "outputs": [
    {
     "name": "stdout",
     "output_type": "stream",
     "text": [
      "<class 'pandas.core.series.Series'>\n",
      "(22,)\n"
     ]
    }
   ],
   "source": [
    "print(type(X_train))\n",
    "print(X_train.shape)"
   ]
  },
  {
   "cell_type": "code",
   "execution_count": 12,
   "metadata": {},
   "outputs": [
    {
     "name": "stdout",
     "output_type": "stream",
     "text": [
      "<class 'pandas.core.series.Series'>\n",
      "(8,)\n"
     ]
    }
   ],
   "source": [
    "print(type(X_test))\n",
    "print(X_test.shape)"
   ]
  },
  {
   "cell_type": "code",
   "execution_count": 13,
   "metadata": {},
   "outputs": [
    {
     "data": {
      "text/plain": [
       "113                                             prix stp\n",
       "265    mala hana ncharkou mafam 7ata chay wele trab7o...\n",
       "44     انا تعجبني اورنج عندي زوز بيسات ويعجبني فيها ا...\n",
       "257    ou ki el 3ada  bech tkdbou  3lina  b 199 mba3e...\n",
       "2      brabi orange pk l connexion ma t7ebech temchil...\n",
       "Name: Commentaire, dtype: object"
      ]
     },
     "execution_count": 13,
     "metadata": {},
     "output_type": "execute_result"
    }
   ],
   "source": [
    "X_train.head()"
   ]
  },
  {
   "cell_type": "code",
   "execution_count": 14,
   "metadata": {},
   "outputs": [
    {
     "data": {
      "text/plain": [
       "113    positive\n",
       "265    negative\n",
       "44     positive\n",
       "257    negative\n",
       "2      negative\n",
       "Name: Classe, dtype: object"
      ]
     },
     "execution_count": 14,
     "metadata": {},
     "output_type": "execute_result"
    }
   ],
   "source": [
    "y_train.head()"
   ]
  },
  {
   "cell_type": "code",
   "execution_count": 62,
   "metadata": {},
   "outputs": [
    {
     "name": "stdout",
     "output_type": "stream",
     "text": [
      "<class 'pandas.core.series.Series'>\n",
      "<class 'pandas.core.series.Series'>\n"
     ]
    }
   ],
   "source": [
    "print(type(X_train))\n",
    "print(type(y_train))"
   ]
  },
  {
   "cell_type": "code",
   "execution_count": 63,
   "metadata": {},
   "outputs": [
    {
     "data": {
      "text/plain": [
       "182"
      ]
     },
     "execution_count": 63,
     "metadata": {},
     "output_type": "execute_result"
    }
   ],
   "source": [
    "vect = CountVectorizer()\n",
    "\n",
    "# Fit the CountVectorizer to the training data\n",
    "#  i.e. learn the vocabulary (distinct words) of the input corpus\n",
    "vect.fit(X_train)\n",
    "len(vect.get_feature_names())"
   ]
  },
  {
   "cell_type": "code",
   "execution_count": 64,
   "metadata": {},
   "outputs": [
    {
     "name": "stdout",
     "output_type": "stream",
     "text": [
      "<class 'scipy.sparse.csr.csr_matrix'>\n",
      "(22, 182)\n",
      "<class 'scipy.sparse.csr.csr_matrix'>\n",
      "(8, 182)\n"
     ]
    }
   ],
   "source": [
    "# the document-term matrix for the training corpus\n",
    "X_train_vectorized = vect.transform(X_train)\n",
    "print(type(X_train_vectorized))\n",
    "print(X_train_vectorized.shape)\n",
    "\n",
    "# the document-term matrix for the test corpus\n",
    "X_test_vectorized = vect.transform(X_test)\n",
    "print(type(X_test_vectorized))\n",
    "print(X_test_vectorized.shape)"
   ]
  },
  {
   "cell_type": "code",
   "execution_count": 68,
   "metadata": {},
   "outputs": [
    {
     "name": "stdout",
     "output_type": "stream",
     "text": [
      "222\n",
      "  (0, 86)\t1\n",
      "  (0, 95)\t1\n",
      "  (1, 15)\t1\n",
      "  (1, 28)\t1\n",
      "  (1, 29)\t1\n",
      "  (1, 40)\t1\n",
      "  (1, 42)\t1\n",
      "  (1, 45)\t1\n",
      "  (1, 48)\t1\n",
      "  (1, 49)\t1\n",
      "  (1, 54)\t1\n",
      "  (1, 60)\t1\n",
      "  (1, 61)\t1\n",
      "  (1, 63)\t1\n",
      "  (1, 74)\t1\n",
      "  (1, 77)\t1\n",
      "  (1, 88)\t1\n",
      "  (1, 98)\t2\n",
      "  (1, 107)\t1\n",
      "  (1, 108)\t1\n",
      "  (1, 111)\t1\n",
      "  (1, 113)\t1\n",
      "  (2, 4)\t1\n",
      "  (2, 19)\t1\n",
      "  (2, 25)\t1\n",
      "  :\t:\n",
      "  (19, 51)\t1\n",
      "  (19, 72)\t1\n",
      "  (19, 76)\t1\n",
      "  (19, 92)\t1\n",
      "  (19, 102)\t1\n",
      "  (20, 0)\t1\n",
      "  (20, 9)\t1\n",
      "  (20, 10)\t1\n",
      "  (20, 16)\t1\n",
      "  (20, 18)\t1\n",
      "  (20, 34)\t1\n",
      "  (20, 56)\t1\n",
      "  (20, 77)\t1\n",
      "  (20, 78)\t1\n",
      "  (20, 87)\t1\n",
      "  (20, 100)\t1\n",
      "  (20, 101)\t1\n",
      "  (20, 109)\t1\n",
      "  (20, 112)\t1\n",
      "  (21, 79)\t1\n",
      "  (21, 81)\t1\n",
      "  (21, 127)\t1\n",
      "  (21, 131)\t1\n",
      "  (21, 139)\t2\n",
      "  (21, 167)\t1\n"
     ]
    }
   ],
   "source": [
    "# Number of non-zero elements in document-term matrix of training corpus\n",
    "print(X_train_vectorized.nnz)\n",
    "print(X_train_vectorized)"
   ]
  },
  {
   "cell_type": "code",
   "execution_count": 69,
   "metadata": {},
   "outputs": [
    {
     "name": "stdout",
     "output_type": "stream",
     "text": [
      "(1, 182)\n",
      "1\n",
      "4\n"
     ]
    }
   ],
   "source": [
    "# Number of training documents that contain each word (called document frequency)\n",
    "doc_freq = np.array((X_train_vectorized > 0).sum(0))\n",
    "print(doc_freq.shape)\n",
    "print(np.amin(doc_freq))\n",
    "print(np.amax(doc_freq))"
   ]
  },
  {
   "cell_type": "code",
   "execution_count": 70,
   "metadata": {},
   "outputs": [
    {
     "name": "stdout",
     "output_type": "stream",
     "text": [
      "(1, 182)\n",
      "0.0454545454545\n",
      "0.181818181818\n"
     ]
    }
   ],
   "source": [
    "# Proportion of training documents that contain each word (called relative document frequency)\n",
    "n,m = X_train_vectorized.shape\n",
    "rel_doc_freq = np.array((X_train_vectorized > 0).sum(0)/n)\n",
    "\n",
    "print(rel_doc_freq.shape)\n",
    "print(np.amin(rel_doc_freq))\n",
    "print(np.amax(rel_doc_freq))"
   ]
  },
  {
   "cell_type": "code",
   "execution_count": 71,
   "metadata": {},
   "outputs": [
    {
     "name": "stdout",
     "output_type": "stream",
     "text": [
      "(22, 1)\n",
      "1\n",
      "24\n"
     ]
    }
   ],
   "source": [
    "# Number of unique words in each training document\n",
    "words_per_doc = np.array((X_train_vectorized > 0).sum(1))\n",
    "print(words_per_doc.shape)\n",
    "print(np.amin(words_per_doc))\n",
    "print(np.amax(words_per_doc))"
   ]
  },
  {
   "cell_type": "code",
   "execution_count": 72,
   "metadata": {},
   "outputs": [
    {
     "data": {
      "text/plain": [
       "(array([ 3.,  2.,  5.,  5.,  1.,  2.,  0.,  0.,  1.,  3.]),\n",
       " array([  1. ,   3.3,   5.6,   7.9,  10.2,  12.5,  14.8,  17.1,  19.4,\n",
       "         21.7,  24. ]),\n",
       " <a list of 10 Patch objects>)"
      ]
     },
     "execution_count": 72,
     "metadata": {},
     "output_type": "execute_result"
    },
    {
     "data": {
      "image/png": "[encoded data removed]",
      "text/plain": [
       "<matplotlib.figure.Figure at 0x1cf7a145cc0>"
      ]
     },
     "metadata": {},
     "output_type": "display_data"
    }
   ],
   "source": [
    "# Plot histogram of number of unique words in each document\n",
    "plt.hist(words_per_doc)"
   ]
  },
  {
   "cell_type": "code",
   "execution_count": null,
   "metadata": {
    "collapsed": true
   },
   "outputs": [],
   "source": []
  },
  {
   "cell_type": "code",
   "execution_count": null,
   "metadata": {
    "collapsed": true
   },
   "outputs": [],
   "source": []
  }
 ],
 "metadata": {
  "kernelspec": {
   "display_name": "Python 3",
   "language": "python",
   "name": "python3"
  },
  "language_info": {
   "codemirror_mode": {
    "name": "ipython",
    "version": 3
   },
   "file_extension": ".py",
   "mimetype": "text/x-python",
   "name": "python",
   "nbconvert_exporter": "python",
   "pygments_lexer": "ipython3",
   "version": "3.6.3"
  }
 },
 "nbformat": 4,
 "nbformat_minor": 2
}
