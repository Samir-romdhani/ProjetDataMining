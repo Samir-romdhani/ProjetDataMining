{
 "cells": [
  {
   "cell_type": "markdown",
   "metadata": {},
   "source": [
    "<h1><font color=\"red\" >Data Mining Project: <b>Sentiment Analyzer </b></font></h1>"
   ]
  },
  {
   "cell_type": "markdown",
   "metadata": {},
   "source": [
    "<p>\n",
    "This notebook covers the development of a sentiment analyzer in Python for Orange Tunisia and using social media comments written in Tunisian Arabic. This work is achieved as a third year’s Data Mining project at the National School of Computer Science. In our work we made use of the comments of the users on the facebook page of Orange Tunisia (Orange.tn) and the tweets containing the user name @OrangeTn.\n",
    "</p>"
   ]
  },
  {
   "cell_type": "markdown",
   "metadata": {},
   "source": [
    "<h1><font color=\"green\" >Collecting data</font></h1>\n",
    "<h2>Import Section</h2>\n",
    "<p>In this Section, we start by importing the libraries and packages that are essential for collecting data that will be used in our project</p>\n",
    "<p> To be able to understand the different steps followed to accomplish this work , a brief presentation of the main used libraries is in order:\n",
    "\n",
    "<dl>\n",
    "    <dt>facebook</dt>\n",
    "    <df>A client for the Facebook Graph API. The Graph API is the main interface through which applications can read and write on Facebook's social graph.</df> \n",
    "    <dt>tweepy</dt>\n",
    "    <df> Tweepy is a Python library for accessing the Twitter API.</df>\n",
    "</dl>\n",
    "\n",
    "</p>\n"
   ]
  },
  {
   "cell_type": "code",
   "execution_count": 7,
   "metadata": {
    "collapsed": true
   },
   "outputs": [],
   "source": [
    "import urllib3\n",
    "import facebook\n",
    "import requests\n",
    "import csv\n",
    "import tweepy\n",
    "from tweepy import OAuthHandler\n",
    "import twitter"
   ]
  },
  {
   "cell_type": "markdown",
   "metadata": {},
   "source": [
    "<h2><font color=\"blue\">Getteing Comments from Facebook</font></h2>"
   ]
  },
  {
   "cell_type": "markdown",
   "metadata": {
    "collapsed": true
   },
   "source": [
    "<h2>Authentification Section </h2>\n",
    "<p>In order to access the facebook graph API, it's necessary to create an account on <b>developers.facebook.com</b>, create a new application and get an access token the will be used to access the API </p>"
   ]
  },
  {
   "cell_type": "code",
   "execution_count": 8,
   "metadata": {
    "collapsed": true
   },
   "outputs": [],
   "source": [
    "token = \"EAABZBwxwxyXMBAPuUvf6wqDVdJhXcQ5tWZCv42S3UFfZAao935GEou3bFKOPbY2YjOok3r3N6QseA1A1h5OmKJnvizQGWe1DqyBGH494NoGhwxjDD7bRrPTEocSLw2uN1RpPk7TZB5QkQtxJwtbdvQn6Nzw6ZAWDZCD5Li2XCd8QZDZD\"\n",
    "graph = facebook.GraphAPI(access_token=token, version = 2.7)\n",
    "page_id = \"298166859034\" #The ID of Orange Tunisia Facebook Page"
   ]
  },
  {
   "cell_type": "markdown",
   "metadata": {
    "collapsed": true
   },
   "source": [
    "<h2>Collecting Comments</h2>"
   ]
  },
  {
   "cell_type": "code",
   "execution_count": 10,
   "metadata": {
    "scrolled": true
   },
   "outputs": [
    {
     "name": "stdout",
     "output_type": "stream",
     "text": [
      "[['Huawei GR3', 'To be added Manualy', '2018-01-12T19:07:37+0000', 'https://www.facebook.com/298166859034_10156001738189035'], ['تعرف حاجة يا باج orange ... حياة عمري نلعب فالبلانت ومربحتش ولعبت برومسبور ومربحتش وتستيت في اربعة جمعيات ومتقبلتش وبعثت رمضان كامل في كل عام وفي كل نهار ميساج لدليلك ملك ومربحتش بائس بائس علخر وتوا عملت ميتين كمنتار على جال تليفون مزيان متطيروليش كيفي واعمل ريبوندر وقلي مبروك راك ربحت بربي', 'To be added Manualy', '2018-01-12T19:21:48+0000', 'https://www.facebook.com/298166859034_10156001738189035'], ['تعرف حاجة يا باج orange ... حياة عمري نلعب فالبلانت ومربحتش ولعبت برومسبور ومربحتش وتستيت في اربعة جمعيات ومتقبلتش وبعثت رمضان كامل في كل عام وفي كل نهار ميساج لدليلك ملك ومربحتش بائس بائس علخر وتوا عملت ميتين كمنتار على جال تليفون مزيان متطيروليش كيفي واعمل ريبوندر وقلي مبروك راك ربحت بربي 😭😂', 'To be added Manualy', '2018-01-12T19:58:15+0000', 'https://www.facebook.com/298166859034_10156001738189035'], ['تعرف حاجة يا باج orange ... حياة عمري نلعب فالبلانت ومربحتش ولعبت برومسبور ومربحتش وتستيت في اربعة جمعيات ومتقبلتش وبعثت رمضان كامل في كل عام وفي كل نهار ميساج لدليلك ملك ومربحتش بائس بائس علخر وتوا عملت ميتين كمنتار على جال تليفون مزيان متطيروليش كيفي واعمل ريبوندر وقلي مبروك راك ربحت بربي 😭😂', 'To be added Manualy', '2018-01-12T19:55:32+0000', 'https://www.facebook.com/298166859034_10156001738189035'], ['تعرف حاجة يا باج orange ... حياة عمري نلعب فالبلانت ومربحتش ولعبت برومسبور ومربحتش وتستيت في اربعة جمعيات ومتقبلتش وبعثت رمضان كامل في كل عام وفي كل نهار ميساج لدليلك ملك ومربحتش بائس بائس علخر وتوا عملت ميتين كمنتار على جال تليفون مزيان متطيروليش كيفي واعمل ريبوندر وقلي مبروك راك ربحت بربي 😭😂', 'To be added Manualy', '2018-01-12T19:56:03+0000', 'https://www.facebook.com/298166859034_10156001738189035']]\n"
     ]
    }
   ],
   "source": [
    "posts_on_page = requests.get(\"https://graph.facebook.com/\"+page_id+\"/posts?access_token=\"+token)\n",
    "posts_data = (posts_on_page.json())\n",
    "comments=[]\n",
    "date=[]\n",
    "liste=[]\n",
    "sousliste=[]\n",
    "for x in posts_data['data']:\n",
    "    post_id = x['id']\n",
    "    reactions_on_post = requests.get(\"https://graph.facebook.com/\"+post_id+\"/comments?access_token=\"+token)\n",
    "    reactions_data = reactions_on_post.json() \n",
    "    for element in reactions_data['data']:\n",
    "        sousliste.append(element['message'])\n",
    "        sousliste.append(\"To be added Manualy\")\n",
    "        sousliste.append(element['created_time'])\n",
    "        sousliste.append(\"https://www.facebook.com/\"+post_id)\n",
    "        liste.extend([sousliste])\n",
    "        sousliste=[]\n",
    "print(liste[:5])  #Printing some examples of the obtained results "
   ]
  },
  {
   "cell_type": "markdown",
   "metadata": {},
   "source": [
    "<h2>Inserting obtained comments into a CSV file</h2>"
   ]
  },
  {
   "cell_type": "code",
   "execution_count": 13,
   "metadata": {
    "collapsed": true
   },
   "outputs": [],
   "source": [
    "with open(\"data/four-column.csv\", \"w\", encoding='UTF-8') as f_write:\n",
    "    writer = csv.writer(f_write)\n",
    "    for row in liste:\n",
    "        writer.writerow(row)"
   ]
  },
  {
   "cell_type": "markdown",
   "metadata": {},
   "source": [
    "<h2><font color=\"blue\">Getteing tweets from twitter</font></h2>"
   ]
  },
  {
   "cell_type": "markdown",
   "metadata": {
    "collapsed": true,
    "scrolled": false
   },
   "source": [
    "<h2>Authentification Section </h2>\n",
    "<p>In order to access the twitter API, it's necessary to create an account on <b>developer.twitter.com</b>, create a new application and get an access token the will be used to access the API </p>"
   ]
  },
  {
   "cell_type": "code",
   "execution_count": 21,
   "metadata": {
    "collapsed": true
   },
   "outputs": [],
   "source": [
    "consumer_key = 'dJRBjK8LVPT39mjB7dFwWWJ51'\n",
    "consumer_secret = 'gXRX3WD77ONevSJMlcRBFRWY2AtEiD9BleQLdVfAO4z3GhrsAz'\n",
    "access_token = '3640758196-PtODNLbxszviuEsZJZUuw2Ugw167Q4RvUmVcgHc'\n",
    "access_secret = '9jIxnlnJ8UpH7nsE4aX8FG5prAZ6FlADXFAPlRGpTU4Tv'\n",
    " \n",
    "auth = OAuthHandler(consumer_key, consumer_secret)\n",
    "auth.set_access_token(access_token, access_secret)\n",
    " \n",
    "api = tweepy.API(auth)\n",
    "\n"
   ]
  },
  {
   "cell_type": "markdown",
   "metadata": {},
   "source": [
    "<h2>Getting tweets that contains \"@OrangeTN\"</h2>"
   ]
  },
  {
   "cell_type": "code",
   "execution_count": 22,
   "metadata": {},
   "outputs": [
    {
     "name": "stdout",
     "output_type": "stream",
     "text": [
      "['@Salmabenmiled8 @OrangeTN @ScoopOrg @0Riles Nbetou ned3iw l rabby 🙏😭', \"@EmnaEmnaBitch @OrangeTN @ScoopOrg @0Riles Oui..\\nShofet ye riles mao kadesh on t'aimee\", \"Si on aura pas de bracelets après tout cela on boudera pour une bonne vingtaine d'années voilà bisous et bonne nuit… https://t.co/ohPu9HXrqa\", \"@ScoopOrg @OrangeTN Oui personne n'a dit le contraire, mais on a pensé que c'était la même démarche cette fois ci p… https://t.co/cwU3HjpkI2\", '@Amani_Tl @OrangeTN La Z1 est une zone dédiée pour les clients du sponsor officiel du festival comme ce fut le cas… https://t.co/uzZdMrDpDP']\n"
     ]
    }
   ],
   "source": [
    "cricTweet = tweepy.Cursor(api.search, q='@OrangeTN').items(500)\n",
    "tweets=[]\n",
    "for tweet in cricTweet:\n",
    "    tweets.append(tweet.text)\n",
    "print(tweets[:5])"
   ]
  },
  {
   "cell_type": "code",
   "execution_count": 23,
   "metadata": {
    "collapsed": true
   },
   "outputs": [],
   "source": [
    "with open(\"data/four-column.csv\", \"a\", encoding='UTF-8') as f:\n",
    "    writer = csv.writer(f)\n",
    "    for val in tweets:\n",
    "        writer.writerow([val])"
   ]
  },
  {
   "cell_type": "markdown",
   "metadata": {
    "collapsed": true
   },
   "source": [
    "<h1><font color=\"green\" >Classification task</font></h1>\n",
    "        "
   ]
  },
  {
   "cell_type": "code",
   "execution_count": 121,
   "metadata": {
    "collapsed": true
   },
   "outputs": [],
   "source": []
  },
  {
   "cell_type": "code",
   "execution_count": 5,
   "metadata": {
    "collapsed": true
   },
   "outputs": [],
   "source": []
  },
  {
   "cell_type": "code",
   "execution_count": null,
   "metadata": {
    "collapsed": true
   },
   "outputs": [],
   "source": [
    "\n",
    "    \n"
   ]
  },
  {
   "cell_type": "code",
   "execution_count": null,
   "metadata": {
    "collapsed": true
   },
   "outputs": [],
   "source": []
  }
 ],
 "metadata": {
  "kernelspec": {
   "display_name": "Python 3",
   "language": "python",
   "name": "python3"
  },
  "language_info": {
   "codemirror_mode": {
    "name": "ipython",
    "version": 3
   },
   "file_extension": ".py",
   "mimetype": "text/x-python",
   "name": "python",
   "nbconvert_exporter": "python",
   "pygments_lexer": "ipython3",
   "version": "3.6.3"
  }
 },
 "nbformat": 4,
 "nbformat_minor": 2
}
